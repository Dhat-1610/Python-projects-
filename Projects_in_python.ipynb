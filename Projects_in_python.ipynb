{
  "nbformat": 4,
  "nbformat_minor": 0,
  "metadata": {
    "colab": {
      "provenance": [],
      "authorship_tag": "ABX9TyPBH6LEVuiIu6IWQt2C8Sd8",
      "include_colab_link": true
    },
    "kernelspec": {
      "name": "python3",
      "display_name": "Python 3"
    },
    "language_info": {
      "name": "python"
    }
  },
  "cells": [
    {
      "cell_type": "markdown",
      "metadata": {
        "id": "view-in-github",
        "colab_type": "text"
      },
      "source": [
        "<a href=\"https://colab.research.google.com/github/Dhat-1610/Python-projects-/blob/main/Projects_in_python.ipynb\" target=\"_parent\"><img src=\"https://colab.research.google.com/assets/colab-badge.svg\" alt=\"Open In Colab\"/></a>"
      ]
    },
    {
      "cell_type": "markdown",
      "source": [
        "Number Guessing Game in Python\n"
      ],
      "metadata": {
        "id": "iKoKoyLFzevK"
      }
    },
    {
      "cell_type": "code",
      "execution_count": null,
      "metadata": {
        "id": "BXIPTBs0vtWj",
        "colab": {
          "base_uri": "https://localhost:8080/"
        },
        "outputId": "e7d59949-1223-4022-96f4-0d920837d17d"
      },
      "outputs": [
        {
          "output_type": "stream",
          "name": "stdout",
          "text": [
            "Welcome to the Number Guessing Game!\n",
            "Guess a number between 1 and 100.\n",
            "Enter your guess: 50\n",
            "Too high! Try again.\n",
            "Enter your guess: 45\n",
            "Too high! Try again.\n",
            "Enter your guess: 40\n",
            "Too high! Try again.\n",
            "Enter your guess: 35\n",
            "Too high! Try again.\n",
            "Enter your guess: 25\n",
            "Too high! Try again.\n",
            "Enter your guess: 13\n",
            "Too low! Try again.\n",
            "Enter your guess: 15\n",
            "Too low! Try again.\n",
            "Enter your guess: 20\n",
            "Too high! Try again.\n",
            "Enter your guess: 17\n",
            "Too low! Try again.\n",
            "Enter your guess: 19\n",
            "Too high! Try again.\n",
            "Enter your guess: 18\n",
            "Congratulations! You guessed it in 11 attempts.\n"
          ]
        }
      ],
      "source": [
        "import random\n",
        "\n",
        "def number_guessing_game():\n",
        "    number_to_guess = random.randint(1, 100)\n",
        "    attempts = 0\n",
        "    print(\"Welcome to the Number Guessing Game!\")\n",
        "    print(\"Guess a number between 1 and 100.\")\n",
        "\n",
        "    while True:\n",
        "        try:\n",
        "            guess = int(input(\"Enter your guess: \"))\n",
        "            attempts += 1\n",
        "\n",
        "            if guess < number_to_guess:\n",
        "                print(\"Too low! Try again.\")\n",
        "            elif guess > number_to_guess:\n",
        "                print(\"Too high! Try again.\")\n",
        "            else:\n",
        "                print(f\"Congratulations! You guessed it in {attempts} attempts.\")\n",
        "                break\n",
        "        except ValueError:\n",
        "            print(\"Invalid input. Please enter a valid number.\")\n",
        "\n",
        "number_guessing_game()"
      ]
    }
  ]
}